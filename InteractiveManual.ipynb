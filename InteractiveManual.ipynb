{
 "cells": [
  {
   "attachments": {},
   "cell_type": "markdown",
   "metadata": {},
   "source": [
    "# Installing\n",
    "\n",
    "First, you will need to obtain the LLaMA weights. \n",
    "\n",
    "You can sign up for the official weights here: https://huggingface.co/docs/transformers/main/model_doc/llama\n",
    "\n",
    "There are alternative models available on huggingface however. This guide will assume you do not have access to the official weights.\n",
    "\n",
    "If you do have access to the official weights skip to: Clone the delta weights"
   ]
  },
  {
   "attachments": {},
   "cell_type": "markdown",
   "metadata": {},
   "source": [
    "## Clone the LLaMA weights"
   ]
  },
  {
   "cell_type": "code",
   "execution_count": 5,
   "metadata": {},
   "outputs": [
    {
     "name": "stdout",
     "output_type": "stream",
     "text": [
      "Updated git hooks.\n",
      "Git LFS initialized.\n",
      "git-lfs/2.13.3 (GitHub; windows amd64; go 1.16.2; git a5e65851)\n",
      "git version 2.33.0.windows.2\n",
      "\n",
      "Endpoint=https://github.com/BillSchumacher/Auto-Vicuna.git/info/lfs (auth=none)\n",
      "  SSH=git@github.com:BillSchumacher/Auto-Vicuna.git\n",
      "LocalWorkingDir=C:\\Users\\BillSchumacher\\Auto-Vicuna\n",
      "LocalGitDir=C:\\Users\\BillSchumacher\\Auto-Vicuna\\.git\n",
      "LocalGitStorageDir=C:\\Users\\BillSchumacher\\Auto-Vicuna\\.git\n",
      "LocalMediaDir=C:\\Users\\BillSchumacher\\Auto-Vicuna\\.git\\lfs\\objects\n",
      "LocalReferenceDirs=\n",
      "TempDir=C:\\Users\\BillSchumacher\\Auto-Vicuna\\.git\\lfs\\tmp\n",
      "ConcurrentTransfers=8\n",
      "TusTransfers=false\n",
      "BasicTransfersOnly=false\n",
      "SkipDownloadErrors=false\n",
      "FetchRecentAlways=false\n",
      "FetchRecentRefsDays=7\n",
      "FetchRecentCommitsDays=0\n",
      "FetchRecentRefsIncludeRemotes=true\n",
      "PruneOffsetDays=3\n",
      "PruneVerifyRemoteAlways=false\n",
      "PruneRemoteName=origin\n",
      "LfsStorageDir=C:\\Users\\BillSchumacher\\Auto-Vicuna\\.git\\lfs\n",
      "AccessDownload=none\n",
      "AccessUpload=none\n",
      "DownloadTransfers=basic,lfs-standalone-file\n",
      "UploadTransfers=basic,lfs-standalone-file\n",
      "GIT_EXEC_PATH=C:/Program Files/Git/mingw64/libexec/git-core\n",
      "GIT_LFS_PATH=C:\\Program Files\\Git LFS\n",
      "GIT_PAGER=cat\n",
      "git config filter.lfs.process = \"git-lfs filter-process --skip\"\n",
      "git config filter.lfs.smudge = \"git-lfs smudge --skip -- %f\"\n",
      "git config filter.lfs.clean = \"git-lfs clean -- %f\"\n"
     ]
    }
   ],
   "source": [
    "# Setup git lfs\n",
    "!git config filter.lfs.process \"git-lfs filter-process --skip\"\n",
    "!git config filter.lfs.smudge \"git-lfs smudge --skip -- %f\"\n",
    "!git lfs install --skip-smudge --force\n",
    "!git lfs env"
   ]
  },
  {
   "cell_type": "code",
   "execution_count": 10,
   "metadata": {},
   "outputs": [
    {
     "name": "stderr",
     "output_type": "stream",
     "text": [
      "WARNING: 'git lfs clone' is deprecated and will not be updated\n",
      "          with new flags from 'git clone'\n",
      "\n",
      "'git clone' has been updated in upstream Git to have comparable\n",
      "speeds to 'git lfs clone'.\n",
      "Cloning into 'llama-7b-hf'...\n"
     ]
    }
   ],
   "source": [
    "# Cloning the 7b parameter model repo\n",
    "!git lfs clone git@hf.co:decapoda-research/llama-7b-hf"
   ]
  },
  {
   "cell_type": "code",
   "execution_count": 12,
   "metadata": {},
   "outputs": [
    {
     "name": "stderr",
     "output_type": "stream",
     "text": [
      "WARNING: 'git lfs clone' is deprecated and will not be updated\n",
      "          with new flags from 'git clone'\n",
      "\n",
      "'git clone' has been updated in upstream Git to have comparable\n",
      "speeds to 'git lfs clone'.\n",
      "fatal: destination path 'llama-13b-hf' already exists and is not an empty directory.\n",
      "Error(s) during clone:\n",
      "git clone failed: exit status 128\n"
     ]
    }
   ],
   "source": [
    "# Cloning the 13b parameter model repo\n",
    "!git lfs clone git@hf.co:decapoda-research/llama-13b-hf"
   ]
  },
  {
   "cell_type": "code",
   "execution_count": 13,
   "metadata": {},
   "outputs": [],
   "source": [
    "!git lfs pull"
   ]
  },
  {
   "attachments": {},
   "cell_type": "markdown",
   "metadata": {},
   "source": [
    "## Applying the Vicuna delta weights"
   ]
  },
  {
   "cell_type": "markdown",
   "metadata": {},
   "source": [
    "### Install PyTorch with CUDA support\n",
    "\n",
    "If you already have this installed in your environment, you can skip this step."
   ]
  },
  {
   "cell_type": "code",
   "execution_count": 15,
   "metadata": {},
   "outputs": [
    {
     "name": "stdout",
     "output_type": "stream",
     "text": [
      "Requirement already satisfied: setuptools in c:\\users\\billschumacher\\auto-vicuna\\.venv\\lib\\site-packages (67.6.1)\n",
      "Requirement already satisfied: pip in c:\\users\\billschumacher\\auto-vicuna\\.venv\\lib\\site-packages (23.0.1)\n",
      "Requirement already satisfied: wheel in c:\\users\\billschumacher\\auto-vicuna\\.venv\\lib\\site-packages (0.40.0)\n"
     ]
    }
   ],
   "source": [
    "# First we need to upgrade setuptools, pip and wheel\n",
    "!pip install --upgrade setuptools pip wheel"
   ]
  },
  {
   "cell_type": "code",
   "execution_count": 14,
   "metadata": {},
   "outputs": [
    {
     "name": "stdout",
     "output_type": "stream",
     "text": [
      "Looking in indexes: https://pypi.ngc.nvidia.com\n",
      "Requirement already satisfied: nvidia-cuda-runtime-cu11 in c:\\users\\billschumacher\\auto-vicuna\\.venv\\lib\\site-packages (2022.4.25)\n",
      "Requirement already satisfied: nvidia-cuda-runtime-cu117 in c:\\users\\billschumacher\\auto-vicuna\\.venv\\lib\\site-packages (from nvidia-cuda-runtime-cu11) (11.7.60)\n",
      "Requirement already satisfied: wheel in c:\\users\\billschumacher\\auto-vicuna\\.venv\\lib\\site-packages (from nvidia-cuda-runtime-cu117->nvidia-cuda-runtime-cu11) (0.40.0)\n",
      "Requirement already satisfied: setuptools in c:\\users\\billschumacher\\auto-vicuna\\.venv\\lib\\site-packages (from nvidia-cuda-runtime-cu117->nvidia-cuda-runtime-cu11) (67.6.1)\n"
     ]
    }
   ],
   "source": [
    "# For CUDA 11.X:\n",
    "!pip install nvidia-cuda-runtime-cu11 --index-url https://pypi.ngc.nvidia.com"
   ]
  },
  {
   "cell_type": "code",
   "execution_count": null,
   "metadata": {},
   "outputs": [],
   "source": [
    "# For CUDA 12.x\n",
    "!pip install nvidia-cuda-runtime-cu12 --index-url https://pypi.ngc.nvidia.com"
   ]
  },
  {
   "cell_type": "code",
   "execution_count": null,
   "metadata": {},
   "outputs": [],
   "source": [
    "# For PyTorch cu117\n",
    "!pip install torch torchvision torchaudio --index-url https://download.pytorch.org/whl/cu117"
   ]
  },
  {
   "cell_type": "code",
   "execution_count": null,
   "metadata": {},
   "outputs": [],
   "source": [
    "# For PyTorch cu118\n",
    "!pip install torch torchvision torchaudio --index-url https://download.pytorch.org/whl/cu118"
   ]
  },
  {
   "attachments": {},
   "cell_type": "markdown",
   "metadata": {},
   "source": [
    "### Running the Fast-Chat apply delta script"
   ]
  },
  {
   "cell_type": "code",
   "execution_count": 17,
   "metadata": {},
   "outputs": [
    {
     "name": "stdout",
     "output_type": "stream",
     "text": [
      "Requirement already satisfied: fschat in c:\\users\\billschumacher\\auto-vicuna\\.venv\\lib\\site-packages (0.1.9)\n",
      "Collecting transformers@ git+https://github.com/huggingface/transformers.git\n",
      "  Cloning https://github.com/huggingface/transformers.git to c:\\users\\billschumacher\\appdata\\local\\temp\\pip-install-cp8_r9xb\\transformers_cc2822491db24ea79d12dcea3ce446a8\n",
      "  Resolved https://github.com/huggingface/transformers.git to commit 888c4a2ae02fb4e6c4b53a4e6eb0b973a771362f\n",
      "  Installing build dependencies: started\n",
      "  Installing build dependencies: finished with status 'done'\n",
      "  Getting requirements to build wheel: started\n",
      "  Getting requirements to build wheel: finished with status 'done'\n",
      "  Preparing metadata (pyproject.toml): started\n",
      "  Preparing metadata (pyproject.toml): finished with status 'done'\n",
      "Requirement already satisfied: accelerate in c:\\users\\billschumacher\\auto-vicuna\\.venv\\lib\\site-packages (from fschat) (0.18.0)\n",
      "Requirement already satisfied: requests in c:\\users\\billschumacher\\auto-vicuna\\.venv\\lib\\site-packages (from fschat) (2.28.1)\n",
      "Requirement already satisfied: torch in c:\\users\\billschumacher\\auto-vicuna\\.venv\\lib\\site-packages (from fschat) (2.0.0+cu117)\n",
      "Requirement already satisfied: rich>=10.0.0 in c:\\users\\billschumacher\\auto-vicuna\\.venv\\lib\\site-packages (from fschat) (13.3.3)\n",
      "Requirement already satisfied: wandb in c:\\users\\billschumacher\\auto-vicuna\\.venv\\lib\\site-packages (from fschat) (0.14.2)\n",
      "Requirement already satisfied: sentencepiece in c:\\users\\billschumacher\\auto-vicuna\\.venv\\lib\\site-packages (from fschat) (0.1.97)\n",
      "Requirement already satisfied: numpy in c:\\users\\billschumacher\\auto-vicuna\\.venv\\lib\\site-packages (from fschat) (1.24.1)\n",
      "Requirement already satisfied: prompt-toolkit>=3.0.0 in c:\\users\\billschumacher\\auto-vicuna\\.venv\\lib\\site-packages (from fschat) (3.0.38)\n",
      "Requirement already satisfied: markdown2[all] in c:\\users\\billschumacher\\auto-vicuna\\.venv\\lib\\site-packages (from fschat) (2.4.8)\n",
      "Requirement already satisfied: fastapi in c:\\users\\billschumacher\\auto-vicuna\\.venv\\lib\\site-packages (from fschat) (0.95.0)\n",
      "Requirement already satisfied: tokenizers>=0.12.1 in c:\\users\\billschumacher\\auto-vicuna\\.venv\\lib\\site-packages (from fschat) (0.13.3)\n",
      "Requirement already satisfied: gradio==3.23 in c:\\users\\billschumacher\\auto-vicuna\\.venv\\lib\\site-packages (from fschat) (3.23.0)\n",
      "Requirement already satisfied: uvicorn in c:\\users\\billschumacher\\auto-vicuna\\.venv\\lib\\site-packages (from fschat) (0.21.1)\n",
      "Requirement already satisfied: pandas in c:\\users\\billschumacher\\auto-vicuna\\.venv\\lib\\site-packages (from gradio==3.23->fschat) (2.0.0)\n",
      "Requirement already satisfied: aiofiles in c:\\users\\billschumacher\\auto-vicuna\\.venv\\lib\\site-packages (from gradio==3.23->fschat) (23.1.0)\n",
      "Requirement already satisfied: mdit-py-plugins<=0.3.3 in c:\\users\\billschumacher\\auto-vicuna\\.venv\\lib\\site-packages (from gradio==3.23->fschat) (0.3.3)\n",
      "Requirement already satisfied: pillow in c:\\users\\billschumacher\\auto-vicuna\\.venv\\lib\\site-packages (from gradio==3.23->fschat) (9.3.0)\n",
      "Requirement already satisfied: orjson in c:\\users\\billschumacher\\auto-vicuna\\.venv\\lib\\site-packages (from gradio==3.23->fschat) (3.8.10)\n",
      "Requirement already satisfied: python-multipart in c:\\users\\billschumacher\\auto-vicuna\\.venv\\lib\\site-packages (from gradio==3.23->fschat) (0.0.6)\n",
      "Requirement already satisfied: pyyaml in c:\\users\\billschumacher\\auto-vicuna\\.venv\\lib\\site-packages (from gradio==3.23->fschat) (6.0)\n",
      "Requirement already satisfied: typing-extensions in c:\\users\\billschumacher\\auto-vicuna\\.venv\\lib\\site-packages (from gradio==3.23->fschat) (4.4.0)\n",
      "Requirement already satisfied: markupsafe in c:\\users\\billschumacher\\auto-vicuna\\.venv\\lib\\site-packages (from gradio==3.23->fschat) (2.1.2)\n",
      "Requirement already satisfied: ffmpy in c:\\users\\billschumacher\\auto-vicuna\\.venv\\lib\\site-packages (from gradio==3.23->fschat) (0.3.0)\n",
      "Requirement already satisfied: pydub in c:\\users\\billschumacher\\auto-vicuna\\.venv\\lib\\site-packages (from gradio==3.23->fschat) (0.25.1)\n",
      "Requirement already satisfied: aiohttp in c:\\users\\billschumacher\\auto-vicuna\\.venv\\lib\\site-packages (from gradio==3.23->fschat) (3.8.4)\n",
      "Requirement already satisfied: altair>=4.2.0 in c:\\users\\billschumacher\\auto-vicuna\\.venv\\lib\\site-packages (from gradio==3.23->fschat) (4.2.2)\n",
      "Requirement already satisfied: huggingface-hub in c:\\users\\billschumacher\\auto-vicuna\\.venv\\lib\\site-packages (from gradio==3.23->fschat) (0.13.4)\n",
      "Requirement already satisfied: matplotlib in c:\\users\\billschumacher\\auto-vicuna\\.venv\\lib\\site-packages (from gradio==3.23->fschat) (3.7.1)\n",
      "Requirement already satisfied: markdown-it-py[linkify]>=2.0.0 in c:\\users\\billschumacher\\auto-vicuna\\.venv\\lib\\site-packages (from gradio==3.23->fschat) (2.2.0)\n",
      "Requirement already satisfied: pydantic in c:\\users\\billschumacher\\auto-vicuna\\.venv\\lib\\site-packages (from gradio==3.23->fschat) (1.10.7)\n",
      "Requirement already satisfied: httpx in c:\\users\\billschumacher\\auto-vicuna\\.venv\\lib\\site-packages (from gradio==3.23->fschat) (0.23.3)\n",
      "Requirement already satisfied: websockets>=10.0 in c:\\users\\billschumacher\\auto-vicuna\\.venv\\lib\\site-packages (from gradio==3.23->fschat) (11.0.1)\n",
      "Requirement already satisfied: fsspec in c:\\users\\billschumacher\\auto-vicuna\\.venv\\lib\\site-packages (from gradio==3.23->fschat) (2023.4.0)\n",
      "Requirement already satisfied: semantic-version in c:\\users\\billschumacher\\auto-vicuna\\.venv\\lib\\site-packages (from gradio==3.23->fschat) (2.10.0)\n",
      "Requirement already satisfied: jinja2 in c:\\users\\billschumacher\\auto-vicuna\\.venv\\lib\\site-packages (from gradio==3.23->fschat) (3.1.2)\n",
      "Requirement already satisfied: wcwidth in c:\\users\\billschumacher\\auto-vicuna\\.venv\\lib\\site-packages (from prompt-toolkit>=3.0.0->fschat) (0.2.6)\n",
      "Requirement already satisfied: pygments<3.0.0,>=2.13.0 in c:\\users\\billschumacher\\auto-vicuna\\.venv\\lib\\site-packages (from rich>=10.0.0->fschat) (2.14.0)\n",
      "Requirement already satisfied: packaging>=20.0 in c:\\users\\billschumacher\\auto-vicuna\\.venv\\lib\\site-packages (from accelerate->fschat) (23.0)\n",
      "Requirement already satisfied: psutil in c:\\users\\billschumacher\\auto-vicuna\\.venv\\lib\\site-packages (from accelerate->fschat) (5.9.4)\n",
      "Requirement already satisfied: filelock in c:\\users\\billschumacher\\auto-vicuna\\.venv\\lib\\site-packages (from torch->fschat) (3.9.0)\n",
      "Requirement already satisfied: networkx in c:\\users\\billschumacher\\auto-vicuna\\.venv\\lib\\site-packages (from torch->fschat) (3.0)\n",
      "Requirement already satisfied: sympy in c:\\users\\billschumacher\\auto-vicuna\\.venv\\lib\\site-packages (from torch->fschat) (1.11.1)\n",
      "Requirement already satisfied: starlette<0.27.0,>=0.26.1 in c:\\users\\billschumacher\\auto-vicuna\\.venv\\lib\\site-packages (from fastapi->fschat) (0.26.1)\n",
      "Requirement already satisfied: wavedrom in c:\\users\\billschumacher\\auto-vicuna\\.venv\\lib\\site-packages (from markdown2[all]->fschat) (2.0.3.post3)\n",
      "Requirement already satisfied: urllib3<1.27,>=1.21.1 in c:\\users\\billschumacher\\auto-vicuna\\.venv\\lib\\site-packages (from requests->fschat) (1.26.13)\n",
      "Requirement already satisfied: certifi>=2017.4.17 in c:\\users\\billschumacher\\auto-vicuna\\.venv\\lib\\site-packages (from requests->fschat) (2022.12.7)\n",
      "Requirement already satisfied: idna<4,>=2.5 in c:\\users\\billschumacher\\auto-vicuna\\.venv\\lib\\site-packages (from requests->fschat) (3.4)\n",
      "Requirement already satisfied: charset-normalizer<3,>=2 in c:\\users\\billschumacher\\auto-vicuna\\.venv\\lib\\site-packages (from requests->fschat) (2.1.1)\n",
      "Requirement already satisfied: regex!=2019.12.17 in c:\\users\\billschumacher\\auto-vicuna\\.venv\\lib\\site-packages (from transformers@ git+https://github.com/huggingface/transformers.git->fschat) (2023.3.23)\n",
      "Requirement already satisfied: tqdm>=4.27 in c:\\users\\billschumacher\\auto-vicuna\\.venv\\lib\\site-packages (from transformers@ git+https://github.com/huggingface/transformers.git->fschat) (4.65.0)\n",
      "Requirement already satisfied: h11>=0.8 in c:\\users\\billschumacher\\auto-vicuna\\.venv\\lib\\site-packages (from uvicorn->fschat) (0.14.0)\n",
      "Requirement already satisfied: click>=7.0 in c:\\users\\billschumacher\\auto-vicuna\\.venv\\lib\\site-packages (from uvicorn->fschat) (8.1.3)\n",
      "Requirement already satisfied: protobuf!=4.21.0,<5,>=3.19.0 in c:\\users\\billschumacher\\auto-vicuna\\.venv\\lib\\site-packages (from wandb->fschat) (4.22.1)\n",
      "Requirement already satisfied: setproctitle in c:\\users\\billschumacher\\auto-vicuna\\.venv\\lib\\site-packages (from wandb->fschat) (1.3.2)\n",
      "Requirement already satisfied: setuptools in c:\\users\\billschumacher\\auto-vicuna\\.venv\\lib\\site-packages (from wandb->fschat) (67.6.1)\n",
      "Requirement already satisfied: appdirs>=1.4.3 in c:\\users\\billschumacher\\auto-vicuna\\.venv\\lib\\site-packages (from wandb->fschat) (1.4.4)\n",
      "Requirement already satisfied: GitPython!=3.1.29,>=1.0.0 in c:\\users\\billschumacher\\auto-vicuna\\.venv\\lib\\site-packages (from wandb->fschat) (3.1.31)\n",
      "Requirement already satisfied: pathtools in c:\\users\\billschumacher\\auto-vicuna\\.venv\\lib\\site-packages (from wandb->fschat) (0.1.2)\n",
      "Requirement already satisfied: docker-pycreds>=0.4.0 in c:\\users\\billschumacher\\auto-vicuna\\.venv\\lib\\site-packages (from wandb->fschat) (0.4.0)\n",
      "Requirement already satisfied: sentry-sdk>=1.0.0 in c:\\users\\billschumacher\\auto-vicuna\\.venv\\lib\\site-packages (from wandb->fschat) (1.19.1)\n",
      "Requirement already satisfied: toolz in c:\\users\\billschumacher\\auto-vicuna\\.venv\\lib\\site-packages (from altair>=4.2.0->gradio==3.23->fschat) (0.12.0)\n",
      "Requirement already satisfied: jsonschema>=3.0 in c:\\users\\billschumacher\\auto-vicuna\\.venv\\lib\\site-packages (from altair>=4.2.0->gradio==3.23->fschat) (4.17.3)\n",
      "Requirement already satisfied: entrypoints in c:\\users\\billschumacher\\auto-vicuna\\.venv\\lib\\site-packages (from altair>=4.2.0->gradio==3.23->fschat) (0.4)\n",
      "Requirement already satisfied: colorama in c:\\users\\billschumacher\\auto-vicuna\\.venv\\lib\\site-packages (from click>=7.0->uvicorn->fschat) (0.4.6)\n",
      "Requirement already satisfied: six>=1.4.0 in c:\\users\\billschumacher\\auto-vicuna\\.venv\\lib\\site-packages (from docker-pycreds>=0.4.0->wandb->fschat) (1.16.0)\n",
      "Requirement already satisfied: gitdb<5,>=4.0.1 in c:\\users\\billschumacher\\auto-vicuna\\.venv\\lib\\site-packages (from GitPython!=3.1.29,>=1.0.0->wandb->fschat) (4.0.10)\n",
      "Requirement already satisfied: mdurl~=0.1 in c:\\users\\billschumacher\\auto-vicuna\\.venv\\lib\\site-packages (from markdown-it-py[linkify]>=2.0.0->gradio==3.23->fschat) (0.1.2)\n",
      "Requirement already satisfied: linkify-it-py<3,>=1 in c:\\users\\billschumacher\\auto-vicuna\\.venv\\lib\\site-packages (from markdown-it-py[linkify]>=2.0.0->gradio==3.23->fschat) (2.0.0)\n",
      "Requirement already satisfied: tzdata>=2022.1 in c:\\users\\billschumacher\\auto-vicuna\\.venv\\lib\\site-packages (from pandas->gradio==3.23->fschat) (2023.3)\n",
      "Requirement already satisfied: pytz>=2020.1 in c:\\users\\billschumacher\\auto-vicuna\\.venv\\lib\\site-packages (from pandas->gradio==3.23->fschat) (2023.3)\n",
      "Requirement already satisfied: python-dateutil>=2.8.2 in c:\\users\\billschumacher\\auto-vicuna\\.venv\\lib\\site-packages (from pandas->gradio==3.23->fschat) (2.8.2)\n",
      "Requirement already satisfied: anyio<5,>=3.4.0 in c:\\users\\billschumacher\\auto-vicuna\\.venv\\lib\\site-packages (from starlette<0.27.0,>=0.26.1->fastapi->fschat) (3.6.2)\n",
      "Requirement already satisfied: frozenlist>=1.1.1 in c:\\users\\billschumacher\\auto-vicuna\\.venv\\lib\\site-packages (from aiohttp->gradio==3.23->fschat) (1.3.3)\n",
      "Requirement already satisfied: aiosignal>=1.1.2 in c:\\users\\billschumacher\\auto-vicuna\\.venv\\lib\\site-packages (from aiohttp->gradio==3.23->fschat) (1.3.1)\n",
      "Requirement already satisfied: yarl<2.0,>=1.0 in c:\\users\\billschumacher\\auto-vicuna\\.venv\\lib\\site-packages (from aiohttp->gradio==3.23->fschat) (1.8.2)\n",
      "Requirement already satisfied: async-timeout<5.0,>=4.0.0a3 in c:\\users\\billschumacher\\auto-vicuna\\.venv\\lib\\site-packages (from aiohttp->gradio==3.23->fschat) (4.0.2)\n",
      "Requirement already satisfied: attrs>=17.3.0 in c:\\users\\billschumacher\\auto-vicuna\\.venv\\lib\\site-packages (from aiohttp->gradio==3.23->fschat) (22.2.0)\n",
      "Requirement already satisfied: multidict<7.0,>=4.5 in c:\\users\\billschumacher\\auto-vicuna\\.venv\\lib\\site-packages (from aiohttp->gradio==3.23->fschat) (6.0.4)\n",
      "Requirement already satisfied: sniffio in c:\\users\\billschumacher\\auto-vicuna\\.venv\\lib\\site-packages (from httpx->gradio==3.23->fschat) (1.3.0)\n",
      "Requirement already satisfied: rfc3986[idna2008]<2,>=1.3 in c:\\users\\billschumacher\\auto-vicuna\\.venv\\lib\\site-packages (from httpx->gradio==3.23->fschat) (1.5.0)\n",
      "Requirement already satisfied: httpcore<0.17.0,>=0.15.0 in c:\\users\\billschumacher\\auto-vicuna\\.venv\\lib\\site-packages (from httpx->gradio==3.23->fschat) (0.16.3)\n",
      "Requirement already satisfied: pyparsing>=2.3.1 in c:\\users\\billschumacher\\auto-vicuna\\.venv\\lib\\site-packages (from matplotlib->gradio==3.23->fschat) (3.0.9)\n",
      "Requirement already satisfied: cycler>=0.10 in c:\\users\\billschumacher\\auto-vicuna\\.venv\\lib\\site-packages (from matplotlib->gradio==3.23->fschat) (0.11.0)\n",
      "Requirement already satisfied: contourpy>=1.0.1 in c:\\users\\billschumacher\\auto-vicuna\\.venv\\lib\\site-packages (from matplotlib->gradio==3.23->fschat) (1.0.7)\n",
      "Requirement already satisfied: fonttools>=4.22.0 in c:\\users\\billschumacher\\auto-vicuna\\.venv\\lib\\site-packages (from matplotlib->gradio==3.23->fschat) (4.39.3)\n",
      "Requirement already satisfied: kiwisolver>=1.0.1 in c:\\users\\billschumacher\\auto-vicuna\\.venv\\lib\\site-packages (from matplotlib->gradio==3.23->fschat) (1.4.4)\n",
      "Requirement already satisfied: importlib-resources>=3.2.0 in c:\\users\\billschumacher\\auto-vicuna\\.venv\\lib\\site-packages (from matplotlib->gradio==3.23->fschat) (5.12.0)\n",
      "Requirement already satisfied: mpmath>=0.19 in c:\\users\\billschumacher\\auto-vicuna\\.venv\\lib\\site-packages (from sympy->torch->fschat) (1.2.1)\n",
      "Requirement already satisfied: svgwrite in c:\\users\\billschumacher\\auto-vicuna\\.venv\\lib\\site-packages (from wavedrom->markdown2[all]->fschat) (1.4.3)\n",
      "Requirement already satisfied: smmap<6,>=3.0.1 in c:\\users\\billschumacher\\auto-vicuna\\.venv\\lib\\site-packages (from gitdb<5,>=4.0.1->GitPython!=3.1.29,>=1.0.0->wandb->fschat) (5.0.0)\n",
      "Requirement already satisfied: zipp>=3.1.0 in c:\\users\\billschumacher\\auto-vicuna\\.venv\\lib\\site-packages (from importlib-resources>=3.2.0->matplotlib->gradio==3.23->fschat) (3.15.0)\n",
      "Requirement already satisfied: pyrsistent!=0.17.0,!=0.17.1,!=0.17.2,>=0.14.0 in c:\\users\\billschumacher\\auto-vicuna\\.venv\\lib\\site-packages (from jsonschema>=3.0->altair>=4.2.0->gradio==3.23->fschat) (0.19.3)\n",
      "Requirement already satisfied: uc-micro-py in c:\\users\\billschumacher\\auto-vicuna\\.venv\\lib\\site-packages (from linkify-it-py<3,>=1->markdown-it-py[linkify]>=2.0.0->gradio==3.23->fschat) (1.0.1)\n",
      "Building wheels for collected packages: transformers\n",
      "  Building wheel for transformers (pyproject.toml): started\n",
      "  Building wheel for transformers (pyproject.toml): finished with status 'done'\n",
      "  Created wheel for transformers: filename=transformers-4.29.0.dev0-py3-none-any.whl size=6927920 sha256=d76ac3f2b9f0338b18815f40947728f15e7b9be469a44ffc1913da4bad9bdbfb\n",
      "  Stored in directory: C:\\Users\\BillSchumacher\\AppData\\Local\\Temp\\pip-ephem-wheel-cache-ye3iq8bq\\wheels\\f7\\92\\8c\\752ff3bfcd3439805d8bbf641614da38ef3226e127ebea86ee\n",
      "Successfully built transformers\n",
      "Installing collected packages: transformers\n",
      "  Attempting uninstall: transformers\n",
      "    Found existing installation: transformers 4.28.0.dev0\n",
      "    Uninstalling transformers-4.28.0.dev0:\n",
      "      Successfully uninstalled transformers-4.28.0.dev0\n",
      "Successfully installed transformers-4.29.0.dev0\n"
     ]
    },
    {
     "name": "stderr",
     "output_type": "stream",
     "text": [
      "  Running command git clone --filter=blob:none --quiet https://github.com/huggingface/transformers.git 'C:\\Users\\BillSchumacher\\AppData\\Local\\Temp\\pip-install-cp8_r9xb\\transformers_cc2822491db24ea79d12dcea3ce446a8'\n"
     ]
    },
    {
     "name": "stdout",
     "output_type": "stream",
     "text": [
      "Collecting git+https://github.com/huggingface/transformers\n",
      "  Cloning https://github.com/huggingface/transformers to c:\\users\\billschumacher\\appdata\\local\\temp\\pip-req-build-qv_mdlpp\n",
      "  Resolved https://github.com/huggingface/transformers to commit 888c4a2ae02fb4e6c4b53a4e6eb0b973a771362f\n",
      "  Installing build dependencies: started\n",
      "  Installing build dependencies: finished with status 'done'\n",
      "  Getting requirements to build wheel: started\n",
      "  Getting requirements to build wheel: finished with status 'done'\n",
      "  Preparing metadata (pyproject.toml): started\n",
      "  Preparing metadata (pyproject.toml): finished with status 'done'\n",
      "Requirement already satisfied: tqdm>=4.27 in c:\\users\\billschumacher\\auto-vicuna\\.venv\\lib\\site-packages (from transformers==4.29.0.dev0) (4.65.0)\n",
      "Requirement already satisfied: regex!=2019.12.17 in c:\\users\\billschumacher\\auto-vicuna\\.venv\\lib\\site-packages (from transformers==4.29.0.dev0) (2023.3.23)\n",
      "Requirement already satisfied: huggingface-hub<1.0,>=0.11.0 in c:\\users\\billschumacher\\auto-vicuna\\.venv\\lib\\site-packages (from transformers==4.29.0.dev0) (0.13.4)\n",
      "Requirement already satisfied: tokenizers!=0.11.3,<0.14,>=0.11.1 in c:\\users\\billschumacher\\auto-vicuna\\.venv\\lib\\site-packages (from transformers==4.29.0.dev0) (0.13.3)\n",
      "Requirement already satisfied: filelock in c:\\users\\billschumacher\\auto-vicuna\\.venv\\lib\\site-packages (from transformers==4.29.0.dev0) (3.9.0)\n",
      "Requirement already satisfied: packaging>=20.0 in c:\\users\\billschumacher\\auto-vicuna\\.venv\\lib\\site-packages (from transformers==4.29.0.dev0) (23.0)\n",
      "Requirement already satisfied: numpy>=1.17 in c:\\users\\billschumacher\\auto-vicuna\\.venv\\lib\\site-packages (from transformers==4.29.0.dev0) (1.24.1)\n",
      "Requirement already satisfied: pyyaml>=5.1 in c:\\users\\billschumacher\\auto-vicuna\\.venv\\lib\\site-packages (from transformers==4.29.0.dev0) (6.0)\n",
      "Requirement already satisfied: requests in c:\\users\\billschumacher\\auto-vicuna\\.venv\\lib\\site-packages (from transformers==4.29.0.dev0) (2.28.1)\n",
      "Requirement already satisfied: typing-extensions>=3.7.4.3 in c:\\users\\billschumacher\\auto-vicuna\\.venv\\lib\\site-packages (from huggingface-hub<1.0,>=0.11.0->transformers==4.29.0.dev0) (4.4.0)\n",
      "Requirement already satisfied: colorama in c:\\users\\billschumacher\\auto-vicuna\\.venv\\lib\\site-packages (from tqdm>=4.27->transformers==4.29.0.dev0) (0.4.6)\n",
      "Requirement already satisfied: idna<4,>=2.5 in c:\\users\\billschumacher\\auto-vicuna\\.venv\\lib\\site-packages (from requests->transformers==4.29.0.dev0) (3.4)\n",
      "Requirement already satisfied: charset-normalizer<3,>=2 in c:\\users\\billschumacher\\auto-vicuna\\.venv\\lib\\site-packages (from requests->transformers==4.29.0.dev0) (2.1.1)\n",
      "Requirement already satisfied: certifi>=2017.4.17 in c:\\users\\billschumacher\\auto-vicuna\\.venv\\lib\\site-packages (from requests->transformers==4.29.0.dev0) (2022.12.7)\n",
      "Requirement already satisfied: urllib3<1.27,>=1.21.1 in c:\\users\\billschumacher\\auto-vicuna\\.venv\\lib\\site-packages (from requests->transformers==4.29.0.dev0) (1.26.13)\n"
     ]
    },
    {
     "name": "stderr",
     "output_type": "stream",
     "text": [
      "  Running command git clone --filter=blob:none --quiet https://github.com/huggingface/transformers 'C:\\Users\\BillSchumacher\\AppData\\Local\\Temp\\pip-req-build-qv_mdlpp'\n"
     ]
    }
   ],
   "source": [
    "# Install FastChat\n",
    "!pip install fschat\n",
    "\n",
    "# Install the latest main branch of huggingface/transformers\n",
    "!pip install git+https://github.com/huggingface/transformers"
   ]
  },
  {
   "cell_type": "code",
   "execution_count": 19,
   "metadata": {},
   "outputs": [],
   "source": [
    "# 7b Model\n",
    "!python -m fastchat.model.apply_delta --base llama-7b-hf --target vicuna-7b --delta lmsys/vicuna-7b-delta-v1.1"
   ]
  },
  {
   "cell_type": "code",
   "execution_count": null,
   "metadata": {},
   "outputs": [],
   "source": [
    "# 13b\n",
    "!python3 -m fastchat.model.apply_delta --base llama-13b-hf --target vicuna-13b --delta lmsys/vicuna-13b-delta-v1.1"
   ]
  },
  {
   "attachments": {},
   "cell_type": "markdown",
   "metadata": {},
   "source": [
    "# Installing Auto-Vicuna"
   ]
  },
  {
   "cell_type": "code",
   "execution_count": null,
   "metadata": {},
   "outputs": [],
   "source": [
    "!pip install auto-vicuna"
   ]
  },
  {
   "attachments": {},
   "cell_type": "markdown",
   "metadata": {},
   "source": [
    "# Running Auto-Vicuna"
   ]
  },
  {
   "cell_type": "code",
   "execution_count": null,
   "metadata": {},
   "outputs": [],
   "source": [
    "!auto_vicuna --vicuna-weights vicuna-7b"
   ]
  },
  {
   "attachments": {},
   "cell_type": "markdown",
   "metadata": {},
   "source": [
    "You can also create a .env file with \n",
    "\n",
    "```\n",
    "VICUNA_WEIGHTS=vicuna-7b\n",
    "```\n",
    "\n",
    "To avoid passing the weights as an arugment."
   ]
  },
  {
   "cell_type": "markdown",
   "metadata": {},
   "source": []
  }
 ],
 "metadata": {
  "kernelspec": {
   "display_name": ".venv",
   "language": "python",
   "name": "python3"
  },
  "language_info": {
   "codemirror_mode": {
    "name": "ipython",
    "version": 3
   },
   "file_extension": ".py",
   "mimetype": "text/x-python",
   "name": "python",
   "nbconvert_exporter": "python",
   "pygments_lexer": "ipython3",
   "version": "3.9.13"
  },
  "orig_nbformat": 4
 },
 "nbformat": 4,
 "nbformat_minor": 2
}
